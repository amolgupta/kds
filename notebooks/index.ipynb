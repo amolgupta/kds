{
 "cells": [
  {
   "cell_type": "markdown",
   "metadata": {},
   "source": [
    "# K4DS\n",
    "### A cheat sheet for using Kotlin for data science\n",
    "\n",
    "\n",
    "- [Installation and setup](Setup.html)\n",
    "- [Reading from a file](loading_data.html)\n",
    "- [Simple Charts](BasicCharts.html)\n",
    "- [Querying data](loading_data.html)\n",
    "- [Adding a dependency](Dependencies.html)"
   ]
  },
  {
   "cell_type": "markdown",
   "metadata": {},
   "source": []
  }
 ],
 "metadata": {
  "kernelspec": {
   "display_name": "Kotlin",
   "language": "kotlin",
   "name": "kotlin"
  },
  "language_info": {
   "codemirror_mode": "text/x-kotlin",
   "file_extension": "kt",
   "name": "kotlin"
  }
 },
 "nbformat": 4,
 "nbformat_minor": 4
}
