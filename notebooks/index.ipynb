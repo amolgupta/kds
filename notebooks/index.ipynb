{
 "cells": [
  {
   "cell_type": "markdown",
   "metadata": {},
   "source": [
    "### A cheat sheet for using Kotlin for data science\n",
    "\n",
    "\n",
    "- [C1W1- Setup Juypter notebooks](C1W1-setup.html)\n",
    "- [C1W1- Reading from a querying data](C1W1-krangl.html)\n",
    "- [Simple Charts](BasicCharts.html)\n",
    "- [Querying data](loading_data.html)\n",
    "- [Adding a dependency](Dependencies.html)"
   ]
  },
  {
   "cell_type": "code",
   "execution_count": null,
   "metadata": {},
   "outputs": [],
   "source": []
  }
 ],
 "metadata": {
  "kernelspec": {
   "display_name": "Kotlin",
   "language": "kotlin",
   "name": "kotlin"
  },
  "language_info": {
   "codemirror_mode": "text/x-kotlin",
   "file_extension": "kt",
   "name": "kotlin"
  }
 },
 "nbformat": 4,
 "nbformat_minor": 4
}
