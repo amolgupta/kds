{
 "cells": [
  {
   "cell_type": "markdown",
   "metadata": {},
   "source": [
    "###  Kotlin for data science\n",
    "\n",
    "This is a Kotlin translation of the poupular course \"Applied Data science with Python specialization\" by \"University of Michigan\" available on [Coursera](https://www.coursera.org/specializations/data-science-python)\n",
    "Contribute to this on [github](https://github.com/amolgupta/kds)\n",
    "\n",
    "#### Introduction to Data Science in Python\n",
    "\n",
    "\n",
    "- [Setup Juypter notebooks](C1W1-setup.html)\n",
    "- Reading a file and querying data. Exploring different frameworks to complete the same task\n",
    "   - [Krangl](C1W1-krangl.html)\n",
    "   - [SMILE](C1W1-Smile.html)\n",
    "   - [Apache Spark](C1W1-Spark.html)\n",
    "- [DataFrames](Dataframes.html)\n",
    "\n",
    "\n",
    "#### Applied Plotting, Charting & Data Representation in Kotlin\n",
    "\n",
    "#### Applied Machine Learning in Kotlin\n",
    "\n",
    "#### Applied Text Mining in Kotlin\n",
    "- [Spark RDD](SparkRDD.html)\n",
    "\n"
   ]
  },
  {
   "cell_type": "code",
   "execution_count": null,
   "metadata": {},
   "outputs": [],
   "source": []
  }
 ],
 "metadata": {
  "kernelspec": {
   "display_name": "Kotlin",
   "language": "kotlin",
   "name": "kotlin"
  },
  "language_info": {
   "codemirror_mode": "text/x-kotlin",
   "file_extension": "kt",
   "name": "kotlin"
  }
 },
 "nbformat": 4,
 "nbformat_minor": 4
}
