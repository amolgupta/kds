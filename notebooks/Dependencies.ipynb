{
 "cells": [
  {
   "cell_type": "markdown",
   "metadata": {},
   "source": [
    "# Adding a dependency \n",
    "`kotlin-jupyther` supports a few libraries by default. To view the default libs run the `:help` command"
   ]
  },
  {
   "cell_type": "code",
   "execution_count": 43,
   "metadata": {},
   "outputs": [
    {
     "data": {
      "text/plain": [
       "Commands:\n",
       "    :help - display help\n",
       "    :classpath - show current classpath\n",
       "\n",
       "Magics\n",
       "    %use - include supported libraries\n",
       "        Usage: %use klaxon(5.0.1), lets-plot\n",
       "    %trackClasspath - log current classpath changes\n",
       "\n",
       "Supported libraries:\n",
       "    spark \n",
       "    koma https://koma.kyonifer.com/index.html\n",
       "    fuel https://github.com/kittinunf/fuel\n",
       "    numpy https://github.com/Kotlin/kotlin-numpy\n",
       "    kotlin-statistics https://github.com/thomasnield/kotlin-statistics\n",
       "    mysql https://github.com/mysql/mysql-connector-j\n",
       "    klaxon https://github.com/cbeust/klaxon\n",
       "    krangl https://github.com/holgerbrandl/krangl\n",
       "    lets-plot https://github.com/JetBrains/lets-plot-kotlin\n",
       "    kmath https://github.com/mipt-npm/kmath\n",
       "    gral https://github.com/eseifert/gral\n",
       "    kravis https://github.com/holgerbrandl/kravis\n",
       "    exposed https://github.com/JetBrains/Exposed"
      ]
     },
     "execution_count": 43,
     "metadata": {},
     "output_type": "execute_result"
    }
   ],
   "source": [
    ":help"
   ]
  },
  {
   "cell_type": "markdown",
   "metadata": {},
   "source": [
    "Adding an external dependency is easy. Here we add `Gson` from https://mvnrepository.com/artifact/com.google.code.gson/gson to the notebook. "
   ]
  },
  {
   "cell_type": "code",
   "execution_count": 44,
   "metadata": {},
   "outputs": [],
   "source": [
    "@file:Repository(\"https://repo1.maven.org/maven2/\")\n",
    "@file:DependsOn(\"com.google.code.gson:gson:2.8.6\")"
   ]
  },
  {
   "cell_type": "markdown",
   "metadata": {},
   "source": [
    "Once the library is added, it can be inported using regular kotlin code."
   ]
  },
  {
   "cell_type": "code",
   "execution_count": 49,
   "metadata": {},
   "outputs": [],
   "source": [
    "import com.google.gson.Gson;\n",
    "val gson = Gson()"
   ]
  }
 ],
 "metadata": {
  "kernelspec": {
   "display_name": "Kotlin",
   "language": "kotlin",
   "name": "kotlin"
  },
  "language_info": {
   "codemirror_mode": "text/x-kotlin",
   "file_extension": "kt",
   "name": "kotlin"
  }
 },
 "nbformat": 4,
 "nbformat_minor": 4
}
