{
 "cells": [
  {
   "cell_type": "markdown",
   "metadata": {},
   "source": [
    "# Project setup \n",
    "This project makes use of `Juypter Notebook` as an interacctive shell to write kotlin code. To get it running use the following steps \n"
   ]
  },
  {
   "cell_type": "markdown",
   "metadata": {},
   "source": [
    "### 1. Setup a python virtual environment\n",
    "First install the virtual environment system `virtualenv` . See instructions [here](https://virtualenv.pypa.io/en/stable/installation.html) \n",
    "\n",
    "\n",
    "In a new directory start a new virtual environment as follows\n",
    "\n",
    "`virtualenv .`\n",
    "\n",
    "To start the virtual environment run the following command in the same directory:\n",
    "\n",
    "`source bin/activate` "
   ]
  },
  {
   "cell_type": "markdown",
   "metadata": {},
   "source": [
    "### 2. Install `Juypter Notebook`\n",
    "\n",
    "Next, install notebook using pip\n",
    "\n",
    "`pip install jupyterlab`\n"
   ]
  },
  {
   "cell_type": "markdown",
   "metadata": {},
   "source": [
    "### 3. Installing kotlin kernel\n",
    "Juypter supports multiple kernels and has python as the default. To run kotlin in the notebooks, we will need to install a kotlin shell.\n",
    "\n",
    "`pip install kotlin-jupyter-kernel`"
   ]
  },
  {
   "cell_type": "code",
   "execution_count": null,
   "metadata": {},
   "outputs": [],
   "source": [
    "### 4. Start a new notebook\n",
    "To start a new notebook, use the command "
   ]
  }
 ],
 "metadata": {
  "kernelspec": {
   "display_name": "Kotlin",
   "language": "kotlin",
   "name": "kotlin"
  },
  "language_info": {
   "codemirror_mode": "text/x-kotlin",
   "file_extension": "kt",
   "name": "kotlin"
  }
 },
 "nbformat": 4,
 "nbformat_minor": 4
}
