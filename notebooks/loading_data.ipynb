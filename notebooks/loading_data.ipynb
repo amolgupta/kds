{
 "cells": [
  {
   "cell_type": "code",
   "execution_count": 5,
   "metadata": {},
   "outputs": [],
   "source": [
    "%use krangl(0.10)"
   ]
  },
  {
   "cell_type": "markdown",
   "metadata": {},
   "source": [
    "# Loading data files\n",
    "\n",
    "This section will use the forex dataset from [kaggle](https://www.kaggle.com/brunotly/foreign-exchange-rates-per-dollar-20002019)\n",
    "\n",
    "It is downloaded and put in a folder called `/data/` in the repository. (As  a cleanup step, all invalid values in the data set have been replaced by `0.0`. These will be taken care of in the next steps)\n",
    "\n"
   ]
  },
  {
   "cell_type": "code",
   "execution_count": 35,
   "metadata": {},
   "outputs": [
    {
     "name": "stdout",
     "output_type": "stream",
     "text": [
      "A DataFrame: 5213 x 24\n",
      "         Time Serie    AUDX    EURX    NZDX    GBPX   BRAZIL - REAL/US$\n",
      " 1   0   2000-01-03   1.517   0.985   1.903   0.615               1.805\n",
      " 2   1   2000-01-04   1.524    0.97   1.924   0.611               1.841\n",
      " 3   2   2000-01-05   1.527   0.968   1.934   0.609               1.856\n",
      " 4   3   2000-01-06   1.529   0.969   1.944   0.607                1.84\n",
      " 5   4   2000-01-07   1.527   0.971   1.938    0.61               1.831\n",
      " 6   5   2000-01-10   1.524   0.975   1.935   0.611               1.819\n",
      " 7   6   2000-01-11   1.521   0.969   1.937   0.607               1.823\n",
      " 8   7   2000-01-12    1.52   0.973   1.929   0.607               1.835\n",
      " 9   8   2000-01-13   1.495   0.974   1.908   0.607               1.814\n",
      "10   9   2000-01-14     1.5   0.987   1.919   0.612               1.805\n",
      "and 5203 more rows, and and 17 more variables: CHINA - YUAN/US$, HONG KONG - HONG KONG DOLLAR/US$,\n",
      "I0.0IA - I0.0IAN RUPEE/US$, KOREA - WON/US$, MEXICO - MEXICAN PESO/US$, SOUTH AFRICA - RA0.0/US$,\n",
      "SINGAPORE - SINGAPORE DOLLAR/US$, DENMARK - DANISH KRONE/US$, JAPAN - YEN/US$, MALAYSIA - RINGGIT/\n",
      "US$, NORWAY - NORWEGIAN KRONE/US$, SWEDEN - KRONA/US$, SRI LANKA - SRI LANKAN RUPEE/US$, SWITZERLA0.\n",
      "0 - FRANC/US$, TAIWAN - NEW TAIWAN DOLLAR/US$, THAILA0.0 - BAHT/US$\n",
      "\n"
     ]
    }
   ],
   "source": [
    "val df = DataFrame.readCSV(\"../data/fx-rates.csv\")\n",
    "df.print(maxRows=10)"
   ]
  },
  {
   "cell_type": "markdown",
   "metadata": {},
   "source": [
    "Select a row"
   ]
  },
  {
   "cell_type": "code",
   "execution_count": 37,
   "metadata": {},
   "outputs": [
    {
     "data": {
      "text/html": [
       "<html><body><table><tr><th style=\"text-align:left\">GBPX</th><th style=\"text-align:left\">AUDX</th></tr><tr><td style=\"text-align:left\" title=\"0.6146\">0.6146</td><td style=\"text-align:left\" title=\"1.5172\">1.5172</td></tr><tr><td style=\"text-align:left\" title=\"0.6109\">0.6109</td><td style=\"text-align:left\" title=\"1.5239\">1.5239</td></tr><tr><td style=\"text-align:left\" title=\"0.6092\">0.6092</td><td style=\"text-align:left\" title=\"1.5267\">1.5267</td></tr><tr><td style=\"text-align:left\" title=\"0.607\">0.607</td><td style=\"text-align:left\" title=\"1.5291\">1.5291</td></tr><tr><td style=\"text-align:left\" title=\"0.6104\">0.6104</td><td style=\"text-align:left\" title=\"1.5272\">1.5272</td></tr><tr><td style=\"text-align:left\" title=\"0.6107\">0.6107</td><td style=\"text-align:left\" title=\"1.5242\">1.5242</td></tr><tr><td style=\"text-align:left\" title=\"0.6068\">0.6068</td><td style=\"text-align:left\" title=\"1.5209\">1.5209</td></tr><tr><td style=\"text-align:left\" title=\"0.6073\">0.6073</td><td style=\"text-align:left\" title=\"1.5202\">1.5202</td></tr><tr><td style=\"text-align:left\" title=\"0.6067\">0.6067</td><td style=\"text-align:left\" title=\"1.4954\">1.4954</td></tr><tr><td style=\"text-align:left\" title=\"0.6115\">0.6115</td><td style=\"text-align:left\" title=\"1.5004\">1.5004</td></tr><tr><td style=\"text-align:left\" title=\"0.6105\">0.6105</td><td style=\"text-align:left\" title=\"1.506\">1.506</td></tr><tr><td style=\"text-align:left\" title=\"0.6083\">0.6083</td><td style=\"text-align:left\" title=\"1.5074\">1.5074</td></tr><tr><td style=\"text-align:left\" title=\"0.6047\">0.6047</td><td style=\"text-align:left\" title=\"1.5002\">1.5002</td></tr><tr><td style=\"text-align:left\" title=\"0.6059\">0.6059</td><td style=\"text-align:left\" title=\"1.5103\">1.5103</td></tr><tr><td style=\"text-align:left\" title=\"0.6053\">0.6053</td><td style=\"text-align:left\" title=\"1.5281\">1.5281</td></tr><tr><td style=\"text-align:left\" title=\"0.6067\">0.6067</td><td style=\"text-align:left\" title=\"1.5286\">1.5286</td></tr><tr><td style=\"text-align:left\" title=\"0.6099\">0.6099</td><td style=\"text-align:left\" title=\"1.5373\">1.5373</td></tr><tr><td style=\"text-align:left\" title=\"0.6111\">0.6111</td><td style=\"text-align:left\" title=\"1.5267\">1.5267</td></tr><tr><td style=\"text-align:left\" title=\"0.6169\">0.6169</td><td style=\"text-align:left\" title=\"1.5962\">1.5962</td></tr><tr><td style=\"text-align:left\" title=\"0.618\">0.618</td><td style=\"text-align:left\" title=\"1.5669\">1.5669</td></tr></table><p>... only showing top 20 rows</p></body></html>"
      ]
     },
     "execution_count": 37,
     "metadata": {},
     "output_type": "execute_result"
    }
   ],
   "source": [
    "df.select(\"GBPX\", \"AUDX\")"
   ]
  },
  {
   "cell_type": "code",
   "execution_count": null,
   "metadata": {},
   "outputs": [],
   "source": []
  }
 ],
 "metadata": {
  "kernelspec": {
   "display_name": "Kotlin",
   "language": "kotlin",
   "name": "kotlin"
  },
  "language_info": {
   "codemirror_mode": "text/x-kotlin",
   "file_extension": "kt",
   "name": "kotlin"
  }
 },
 "nbformat": 4,
 "nbformat_minor": 4
}
