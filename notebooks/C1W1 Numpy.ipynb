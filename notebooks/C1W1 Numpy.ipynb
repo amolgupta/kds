{
 "cells": [
  {
   "cell_type": "code",
   "execution_count": 1,
   "metadata": {},
   "outputs": [],
   "source": [
    "@file:Repository(\"https://kotlin.bintray.com/kotlin-numpy\")\n",
    "@file:DependsOn(\"org.jetbrains:kotlin-numpy:0.1.4\")\n",
    "\n",
    "import org.jetbrains.numkt.core.*\n",
    "import org.jetbrains.numkt.math.*\n",
    "import org.jetbrains.numkt.*"
   ]
  },
  {
   "cell_type": "code",
   "execution_count": 4,
   "metadata": {},
   "outputs": [
    {
     "name": "stderr",
     "output_type": "stream",
     "text": [
      "Unresolved reference. None of the following candidates is applicable because of receiver type mismatch: \n",
      "public fun <T : Any> KtNDArray<???>.reshape(vararg dims: Int, order: Order = ...): KtNDArray<???> defined in org.jetbrains.numkt.core"
     ]
    }
   ],
   "source": [
    " val a = listOf<Int>(1,2,3,4,5,6,7,8).reshape(2, 4)"
   ]
  },
  {
   "cell_type": "code",
   "execution_count": 5,
   "metadata": {},
   "outputs": [
    {
     "name": "stderr",
     "output_type": "stream",
     "text": [
      "Unresolved reference: a"
     ]
    }
   ],
   "source": [
    " println(a.shape.contentEquals(intArrayOf(3, 5)))"
   ]
  },
  {
   "cell_type": "code",
   "execution_count": null,
   "metadata": {},
   "outputs": [],
   "source": []
  }
 ],
 "metadata": {
  "kernelspec": {
   "display_name": "Kotlin",
   "language": "kotlin",
   "name": "kotlin"
  },
  "language_info": {
   "codemirror_mode": "text/x-kotlin",
   "file_extension": "kt",
   "name": "kotlin"
  }
 },
 "nbformat": 4,
 "nbformat_minor": 4
}
