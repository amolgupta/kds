{
 "cells": [
  {
   "cell_type": "markdown",
   "metadata": {},
   "source": [
    "A kotlin `list` and `map` can be used as an equivalant of `Series` in `pandas`"
   ]
  },
  {
   "cell_type": "code",
   "execution_count": 2,
   "metadata": {},
   "outputs": [],
   "source": [
    "val animals = listOf(\"Tiger\",\"Bear\",\"Moose\")\n",
    "val numbers = listOf(1,2,3)"
   ]
  },
  {
   "cell_type": "code",
   "execution_count": 3,
   "metadata": {},
   "outputs": [
    {
     "data": {
      "text/plain": [
       "false"
      ]
     },
     "execution_count": 3,
     "metadata": {},
     "output_type": "execute_result"
    }
   ],
   "source": [
    "// To check if the list is empty\"\n",
    "numbers.isEmpty()"
   ]
  },
  {
   "cell_type": "code",
   "execution_count": 68,
   "metadata": {},
   "outputs": [
    {
     "name": "stdout",
     "output_type": "stream",
     "text": [
      "Bhutan\n",
      "Scotland\n",
      "Japan\n",
      "South Korea\n"
     ]
    }
   ],
   "source": [
    "// Using a map \n",
    "var sports = mapOf<String,String>(\n",
    "          \"Bhutan\" to \"Archery\",\n",
    "          \"Scotland\" to \"Golf\",\n",
    "           \"Japan\" to \"Sumo\",\n",
    "          \"South Korea\" to \"Taekwondo\"\n",
    ")\n",
    "\n",
    "sports.keys.forEach{println(it)}"
   ]
  },
  {
   "cell_type": "markdown",
   "metadata": {},
   "source": [
    "\n",
    "## Querying a list"
   ]
  },
  {
   "cell_type": "code",
   "execution_count": 69,
   "metadata": {},
   "outputs": [],
   "source": [
    "// You can iterate over a map to find the ith value or use the key as follow\n",
    "sports[\"Golf\"]\n"
   ]
  },
  {
   "cell_type": "code",
   "execution_count": 70,
   "metadata": {},
   "outputs": [
    {
     "data": {
      "text/plain": [
       "324.0"
      ]
     },
     "execution_count": 70,
     "metadata": {},
     "output_type": "execute_result"
    }
   ],
   "source": [
    "// Iterating over a list\n",
    "\n",
    "val s = listOf(100.00, 120.00, 101.00, 3.00)\n",
    "var sum = 0.0\n",
    "s.forEach{ sum+= it}\n",
    "sum"
   ]
  },
  {
   "cell_type": "code",
   "execution_count": 71,
   "metadata": {},
   "outputs": [
    {
     "data": {
      "text/plain": [
       "[73, 27, 1, 95, 95]"
      ]
     },
     "execution_count": 71,
     "metadata": {},
     "output_type": "execute_result"
    }
   ],
   "source": [
    "// Create a list of random numbers\n",
    "\n",
    "var list = mutableListOf<Int>()\n",
    "repeat(5){\n",
    "    list.add((0 until 100).random())\n",
    "}\n",
    "list"
   ]
  },
  {
   "cell_type": "code",
   "execution_count": 72,
   "metadata": {},
   "outputs": [
    {
     "name": "stdout",
     "output_type": "stream",
     "text": [
      "Total time taken 40968 nano seconds\n",
      "Avg time taken per loop 40 nano seconds\n"
     ]
    }
   ],
   "source": [
    "import kotlin.system.measureNanoTime\n",
    "\n",
    "val time = measureNanoTime {\n",
    "var sum = 0.0\n",
    "list.forEach{ sum+= it}\n",
    "}\n",
    "println(\"Total time taken $time nano seconds\")\n",
    "println(\"Avg time taken per loop ${time/1000} nano seconds\")\n"
   ]
  },
  {
   "cell_type": "code",
   "execution_count": 73,
   "metadata": {},
   "outputs": [],
   "source": [
    "// TODO add numpy version for comparison\n"
   ]
  },
  {
   "cell_type": "code",
   "execution_count": 74,
   "metadata": {},
   "outputs": [
    {
     "data": {
      "text/plain": [
       "[75, 29, 3, 97, 97]"
      ]
     },
     "execution_count": 74,
     "metadata": {},
     "output_type": "execute_result"
    }
   ],
   "source": [
    "// Add 2 to each element\n",
    "val list2 = list.map{ it -> it + 2}\n",
    "list2"
   ]
  },
  {
   "cell_type": "code",
   "execution_count": 75,
   "metadata": {},
   "outputs": [
    {
     "name": "stdout",
     "output_type": "stream",
     "text": [
      "[Bhutan, Scotland, Japan, South Korea, Australia, Barbados, India]"
     ]
    }
   ],
   "source": [
    "// Append two maps\n",
    "var cricket_loving_countries = mapOf<String,String> (\n",
    "    \"Australia\" to \"Cricket\",\n",
    "    \"Barbados\" to \"Cricket\",\n",
    "    \"India\" to \"Cricket\" )\n",
    "\n",
    "var all_countries = mutableMapOf<String,String>()\n",
    "        all_countries.putAll(sports)\n",
    "                all_countries.putAll(cricket_loving_countries)\n",
    "\n",
    "print(all_countries.keys)\n"
   ]
  },
  {
   "cell_type": "markdown",
   "metadata": {},
   "source": [
    "# The DataFrame Data Structure"
   ]
  },
  {
   "cell_type": "code",
   "execution_count": null,
   "metadata": {},
   "outputs": [],
   "source": []
  },
  {
   "cell_type": "code",
   "execution_count": null,
   "metadata": {},
   "outputs": [],
   "source": []
  }
 ],
 "metadata": {
  "kernelspec": {
   "display_name": "Kotlin",
   "language": "kotlin",
   "name": "kotlin"
  },
  "language_info": {
   "codemirror_mode": "text/x-kotlin",
   "file_extension": "kt",
   "name": "kotlin"
  }
 },
 "nbformat": 4,
 "nbformat_minor": 4
}
