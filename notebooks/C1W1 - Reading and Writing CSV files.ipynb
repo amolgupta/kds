{
 "cells": [
  {
   "cell_type": "markdown",
   "metadata": {},
   "source": [
    "`Krangl` is an equivalant of pandas for `kotlin`. See [documentation](https://krangl.gitbook.io/docs/) "
   ]
  },
  {
   "cell_type": "code",
   "execution_count": 24,
   "metadata": {},
   "outputs": [],
   "source": [
    "\n",
    "%use krangl(0.10)"
   ]
  },
  {
   "cell_type": "markdown",
   "metadata": {},
   "source": [
    "# Loading data files\n",
    "\n",
    "\n",
    "Let's import our datafile mpg.csv, which contains fuel economy data for 234 cars.\n",
    "\n",
    "* mpg : miles per gallon\n",
    "* class : car classification\n",
    "* cty : city mpg\n",
    "* cyl : # of cylinders\n",
    "* displ : engine displacement in liters\n",
    "* drv : f = front-wheel drive, r = rear wheel drive, 4 = 4wd\n",
    "* fl : fuel (e = ethanol E85, d = diesel, r = regular, p = premium, c = CNG)\n",
    "* hwy : highway mpg\n",
    "* manufacturer : automobile manufacturer\n",
    "* model : model of car\n",
    "* trans : type of transmission\n",
    "* year : model year\n",
    "\n"
   ]
  },
  {
   "cell_type": "code",
   "execution_count": 26,
   "metadata": {},
   "outputs": [
    {
     "name": "stdout",
     "output_type": "stream",
     "text": [
      "A DataFrame: 234 x 12\n",
      "          manufacturer        model   displ   year   cyl        trans   drv   cty   hwy   fl\n",
      " 1    1           audi           a4     1.8   1999     4     auto(l5)     f    18    29    p\n",
      " 2    2           audi           a4     1.8   1999     4   manual(m5)     f    21    29    p\n",
      " 3    3           audi           a4       2   2008     4   manual(m6)     f    20    31    p\n",
      " 4    4           audi           a4       2   2008     4     auto(av)     f    21    30    p\n",
      " 5    5           audi           a4     2.8   1999     6     auto(l5)     f    16    26    p\n",
      " 6    6           audi           a4     2.8   1999     6   manual(m5)     f    18    26    p\n",
      " 7    7           audi           a4     3.1   2008     6     auto(av)     f    18    27    p\n",
      " 8    8           audi   a4 quattro     1.8   1999     4   manual(m5)     4    18    26    p\n",
      " 9    9           audi   a4 quattro     1.8   1999     4     auto(l5)     4    16    25    p\n",
      "10   10           audi   a4 quattro       2   2008     4   manual(m6)     4    20    28    p\n",
      "and 224 more rows, and and 1 more variables:\n",
      "\n"
     ]
    }
   ],
   "source": [
    "// Read the file\n",
    "val df = DataFrame.readCSV(\"../data/mpg.csv\")\n",
    "\n",
    "// View the first 10 rows\n",
    "df.print(maxRows=10)"
   ]
  },
  {
   "cell_type": "code",
   "execution_count": 27,
   "metadata": {},
   "outputs": [
    {
     "data": {
      "text/html": [
       "<html><body><table><tr><th style=\"text-align:left\">n</th></tr><tr><td style=\"text-align:left\" title=\"234\">234</td></tr></table></body></html>"
      ]
     },
     "execution_count": 27,
     "metadata": {},
     "output_type": "execute_result"
    }
   ],
   "source": [
    "// View the number of rows in the dataframes\n",
    "df.count()"
   ]
  },
  {
   "cell_type": "code",
   "execution_count": 31,
   "metadata": {},
   "outputs": [
    {
     "name": "stdout",
     "output_type": "stream",
     "text": [
      "DataFrame with 234 observations\n",
      "              [Int]  1, 2, 3, 4, 5, 6, 7, 8, 9, 10, 11, 12, 13, 14, 15, 16, 17, 18, 19, 20, 21, 22, 2...\n",
      "manufacturer  [Str]  audi, audi, audi, audi, audi, audi, audi, audi, audi, audi, audi, audi, audi, au...\n",
      "model         [Str]  a4, a4, a4, a4, a4, a4, a4, a4 quattro, a4 quattro, a4 quattro, a4 quattro, a4 q...\n",
      "displ         [Dbl]  1.8, 1.8, 2, 2, 2.8, 2.8, 3.1, 1.8, 1.8, 2, 2, 2.8, 2.8, 3.1, 3.1, 2.8, 3.1, 4.2...\n",
      "year          [Int]  1999, 1999, 2008, 2008, 1999, 1999, 2008, 1999, 1999, 2008, 2008, 1999, 1999, 20...\n",
      "cyl           [Int]  4, 4, 4, 4, 6, 6, 6, 4, 4, 4, 4, 6, 6, 6, 6, 6, 6, 8, 8, 8, 8, 8, 8, 8, 8, 8, 8,...\n",
      "trans         [Str]  auto(l5), manual(m5), manual(m6), auto(av), auto(l5), manual(m5), auto(av), manu...\n",
      "drv           [Str]  f, f, f, f, f, f, f, 4, 4, 4, 4, 4, 4, 4, 4, 4, 4, 4, r, r, r, r, r, r, r, r, r,...\n",
      "cty           [Int]  18, 21, 20, 21, 16, 18, 18, 18, 16, 20, 19, 15, 17, 17, 15, 15, 17, 16, 14, 11, ...\n",
      "hwy           [Int]  29, 29, 31, 30, 26, 26, 27, 26, 25, 28, 27, 25, 25, 25, 25, 24, 25, 23, 20, 15, ...\n",
      "fl            [Str]  p, p, p, p, p, p, p, p, p, p, p, p, p, p, p, p, p, p, r, e, r, r, r, p, p, p, p,...\n",
      "class         [Str]  compact, compact, compact, compact, compact, compact, compact, compact, compact,...\n"
     ]
    }
   ],
   "source": [
    "// View the column names \n",
    "df.schema()"
   ]
  },
  {
   "cell_type": "code",
   "execution_count": 47,
   "metadata": {},
   "outputs": [
    {
     "data": {
      "text/plain": [
       "16.858974358974358"
      ]
     },
     "execution_count": 47,
     "metadata": {},
     "output_type": "execute_result"
    }
   ],
   "source": [
    "// This is how to find the average cty fuel economy across all cars. \n",
    "df[\"cty\"].mean(true)"
   ]
  },
  {
   "cell_type": "code",
   "execution_count": 48,
   "metadata": {},
   "outputs": [
    {
     "data": {
      "text/plain": [
       "23.44017094017094"
      ]
     },
     "execution_count": 48,
     "metadata": {},
     "output_type": "execute_result"
    }
   ],
   "source": [
    "//Similarly this is how to find the average hwy fuel economy across all cars.\n",
    "df[\"hwy\"].mean(true)"
   ]
  },
  {
   "cell_type": "code",
   "execution_count": 78,
   "metadata": {},
   "outputs": [
    {
     "data": {
      "text/plain": [
       "[4, 6, 8, 5]"
      ]
     },
     "execution_count": 78,
     "metadata": {},
     "output_type": "execute_result"
    }
   ],
   "source": [
    "//  return the unique values for the number of cylinders the cars in our dataset have.\n",
    "df[\"cyl\"].values().distinct()"
   ]
  },
  {
   "cell_type": "code",
   "execution_count": 80,
   "metadata": {},
   "outputs": [],
   "source": [
    "//Here's a more complex example where we are\n",
    "//grouping the cars by number of cylinder, and finding the average cty mpg for each group."
   ]
  },
  {
   "cell_type": "code",
   "execution_count": 102,
   "metadata": {},
   "outputs": [
    {
     "data": {
      "text/html": [
       "<html><body><table><tr><th style=\"text-align:left\">cyl</th><th style=\"text-align:left\">avg</th></tr><tr><td style=\"text-align:left\" title=\"4\">4</td><td style=\"text-align:left\" title=\"21.012345679012345\">21.012345679012345</td></tr><tr><td style=\"text-align:left\" title=\"6\">6</td><td style=\"text-align:left\" title=\"16.21518987341772\">16.21518987341772</td></tr><tr><td style=\"text-align:left\" title=\"8\">8</td><td style=\"text-align:left\" title=\"12.571428571428571\">12.571428571428571</td></tr><tr><td style=\"text-align:left\" title=\"5\">5</td><td style=\"text-align:left\" title=\"20.5\">20.5</td></tr></table></body></html>"
      ]
     },
     "execution_count": 102,
     "metadata": {},
     "output_type": "execute_result"
    }
   ],
   "source": [
    "df.groupBy(\"cyl\").summarize( \"avg\" , {it -> it[\"cty\"].mean()})"
   ]
  },
  {
   "cell_type": "code",
   "execution_count": 103,
   "metadata": {},
   "outputs": [
    {
     "data": {
      "text/plain": [
       "[compact, midsize, suv, 2seater, minivan, pickup, subcompact]"
      ]
     },
     "execution_count": 103,
     "metadata": {},
     "output_type": "execute_result"
    }
   ],
   "source": [
    "// return the unique values for the class types in our dataset.\n",
    "df[\"class\"].values().distinct()"
   ]
  },
  {
   "cell_type": "code",
   "execution_count": 104,
   "metadata": {},
   "outputs": [
    {
     "data": {
      "text/html": [
       "<html><body><table><tr><th style=\"text-align:left\">class</th><th style=\"text-align:left\">avg</th></tr><tr><td style=\"text-align:left\" title=\"compact\">compact</td><td style=\"text-align:left\" title=\"28.29787234042553\">28.29787234042553</td></tr><tr><td style=\"text-align:left\" title=\"midsize\">midsize</td><td style=\"text-align:left\" title=\"27.29268292682927\">27.29268292682927</td></tr><tr><td style=\"text-align:left\" title=\"suv\">suv</td><td style=\"text-align:left\" title=\"18.129032258064516\">18.129032258064516</td></tr><tr><td style=\"text-align:left\" title=\"2seater\">2seater</td><td style=\"text-align:left\" title=\"24.8\">24.8</td></tr><tr><td style=\"text-align:left\" title=\"minivan\">minivan</td><td style=\"text-align:left\" title=\"22.363636363636363\">22.363636363636363</td></tr><tr><td style=\"text-align:left\" title=\"pickup\">pickup</td><td style=\"text-align:left\" title=\"16.87878787878788\">16.87878787878788</td></tr><tr><td style=\"text-align:left\" title=\"subcompact\">subcompact</td><td style=\"text-align:left\" title=\"28.142857142857142\">28.142857142857142</td></tr></table></body></html>"
      ]
     },
     "execution_count": 104,
     "metadata": {},
     "output_type": "execute_result"
    }
   ],
   "source": [
    "// And here's an example of how to find the average hwy mpg for each class of vehicle in our dataset.\n",
    "df.groupBy(\"class\").summarize( \"avg\" , {it -> it[\"hwy\"].mean()})"
   ]
  },
  {
   "cell_type": "markdown",
   "metadata": {},
   "source": [
    "The original notebook also explains basics of `Classes`, `Objects`, datetime functions which are straightforward in `kotlin` and out of scope for this notebook"
   ]
  },
  {
   "cell_type": "code",
   "execution_count": null,
   "metadata": {},
   "outputs": [],
   "source": []
  }
 ],
 "metadata": {
  "kernelspec": {
   "display_name": "Kotlin",
   "language": "kotlin",
   "name": "kotlin"
  },
  "language_info": {
   "codemirror_mode": "text/x-kotlin",
   "file_extension": "kt",
   "name": "kotlin"
  }
 },
 "nbformat": 4,
 "nbformat_minor": 4
}
