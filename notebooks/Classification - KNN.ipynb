{
 "cells": [
  {
   "cell_type": "code",
   "execution_count": 14,
   "metadata": {},
   "outputs": [],
   "source": [
    "@file:Repository(\"https://repo1.maven.org/maven2/\")\n",
    "@file:DependsOn(\"com.github.haifengl:smile-core:2.4.0\")\n",
    "\n",
    "import smile.*\n",
    "import smile.data.*\n",
    "import smile.io.*\n",
    "import smile.validation.*\n",
    "import smile.classification.*;\n",
    "import org.apache.commons.csv.CSVFormat;"
   ]
  },
  {
   "cell_type": "code",
   "execution_count": 40,
   "metadata": {},
   "outputs": [],
   "source": [
    "    val df = Read.csv(\"../data/mpg.csv\", CSVFormat.DEFAULT.withFirstRecordAsHeader())\n",
    "    val x = df.select(3, 4,5,8,9).toArray()\n",
    "    val y = df.column(5).toIntArray()\n",
    "    val knn = KNN.fit(x, y, 3)"
   ]
  },
  {
   "cell_type": "code",
   "execution_count": 42,
   "metadata": {},
   "outputs": [
    {
     "data": {
      "text/plain": [
       "6"
      ]
     },
     "execution_count": 42,
     "metadata": {},
     "output_type": "execute_result"
    }
   ],
   "source": [
    "    knn.predict(df.select(3, 4,5,8,9)[122].toArray())"
   ]
  },
  {
   "cell_type": "code",
   "execution_count": null,
   "metadata": {},
   "outputs": [],
   "source": []
  }
 ],
 "metadata": {
  "kernelspec": {
   "display_name": "Kotlin",
   "language": "kotlin",
   "name": "kotlin"
  },
  "language_info": {
   "codemirror_mode": "text/x-kotlin",
   "file_extension": "kt",
   "name": "kotlin"
  }
 },
 "nbformat": 4,
 "nbformat_minor": 4
}
