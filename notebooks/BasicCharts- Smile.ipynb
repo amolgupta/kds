{
 "cells": [
  {
   "cell_type": "markdown",
   "metadata": {},
   "source": [
    "# Plotting a basic graph\n",
    "\n",
    "First we define some data and render a line chart"
   ]
  },
  {
   "cell_type": "code",
   "execution_count": 2,
   "metadata": {},
   "outputs": [],
   "source": [
    "@file:Repository(\"https://repo1.maven.org/maven2/\")\n",
    "@file:DependsOn(\"com.github.haifengl:smile-core:2.4.0\")\n",
    "@file:DependsOn(\"com.github.haifengl:smile-kotlin:2.4.0\")\n",
    "@file:DependsOn(\"com.github.haifengl:smile-plot:2.4.0\")\n",
    "\n",
    "import smile.*\n",
    "import smile.data.*\n",
    "import smile.io.*\n",
    "import org.apache.commons.csv.CSVFormat;\n",
    "import java.awt.Color;\n",
    "import smile.plot.swing.*;\n",
    "import smile.io.*;\n",
    "import smile.stat.distribution.*;\n",
    "import smile.math.matrix.*;"
   ]
  },
  {
   "cell_type": "code",
   "execution_count": 45,
   "metadata": {},
   "outputs": [
    {
     "data": {
      "text/plain": [
       "javax.swing.JFrame[frame12,80,31,1280x800,layout=java.awt.BorderLayout,title=,resizable,normal,defaultCloseOperation=DISPOSE_ON_CLOSE,rootPane=javax.swing.JRootPane[,0,22,1280x778,layout=javax.swing.JRootPane$RootLayout,alignmentX=0.0,alignmentY=0.0,border=,flags=16777673,maximumSize=,minimumSize=,preferredSize=],rootPaneCheckingEnabled=true]"
      ]
     },
     "execution_count": 45,
     "metadata": {},
     "output_type": "execute_result"
    }
   ],
   "source": [
    "// Read the data file \n",
    "val df = Read.csv(\"../data/mpg.csv\", CSVFormat.DEFAULT.withFirstRecordAsHeader())\n",
    "\n",
    "// Draw a scatter plot of car average in city and \n",
    "var canvas = ScatterPlot.of(df, \"cty\", \"hwy\", \"class\", '*').canvas();\n",
    "    canvas.setAxisLabels(\"City\", \"Highway\");\n",
    "    canvas.window();"
   ]
  },
  {
   "cell_type": "markdown",
   "metadata": {},
   "source": [
    "In a similar way we can plot a point chart as well"
   ]
  },
  {
   "cell_type": "code",
   "execution_count": 46,
   "metadata": {},
   "outputs": [
    {
     "data": {
      "text/plain": [
       "javax.swing.JFrame[frame13,80,31,1280x800,layout=java.awt.BorderLayout,title=,resizable,normal,defaultCloseOperation=DISPOSE_ON_CLOSE,rootPane=javax.swing.JRootPane[,0,22,1280x778,layout=javax.swing.JRootPane$RootLayout,alignmentX=0.0,alignmentY=0.0,border=,flags=16777673,maximumSize=,minimumSize=,preferredSize=],rootPaneCheckingEnabled=true]"
      ]
     },
     "execution_count": 46,
     "metadata": {},
     "output_type": "execute_result"
    }
   ],
   "source": [
    "var canvas = ScatterPlot.of(df, \"cty\", \"hwy\", \"year\", \"class\", '*').canvas();\n",
    "    canvas.setAxisLabels(\"cty\", \"hwy\", \"year\");\n",
    "    canvas.window();"
   ]
  },
  {
   "cell_type": "markdown",
   "metadata": {},
   "source": [
    "Or combine the two to see points and line together"
   ]
  },
  {
   "cell_type": "code",
   "execution_count": 44,
   "metadata": {},
   "outputs": [
    {
     "name": "stderr",
     "output_type": "stream",
     "text": [
      "java.lang.NullPointerException\n",
      "Line_44_jupyter.<init>(Line_44.jupyter.kts:8)\n",
      "sun.reflect.NativeConstructorAccessorImpl.newInstance0(Native Method)\n",
      "sun.reflect.NativeConstructorAccessorImpl.newInstance(NativeConstructorAccessorImpl.java:62)\n",
      "sun.reflect.DelegatingConstructorAccessorImpl.newInstance(DelegatingConstructorAccessorImpl.java:45)\n",
      "java.lang.reflect.Constructor.newInstance(Constructor.java:423)\n",
      "kotlin.script.experimental.jvm.BasicJvmScriptEvaluator.evalWithConfigAndOtherScriptsResults(BasicJvmScriptEvaluator.kt:95)\n",
      "kotlin.script.experimental.jvm.BasicJvmScriptEvaluator.invoke$suspendImpl(BasicJvmScriptEvaluator.kt:40)\n",
      "kotlin.script.experimental.jvm.BasicJvmScriptEvaluator.invoke(BasicJvmScriptEvaluator.kt)\n",
      "kotlin.script.experimental.jvmhost.repl.JvmReplEvaluator$eval$$inlined$write$lambda$2.invokeSuspend(legacyReplEvaluation.kt:57)\n",
      "kotlin.coroutines.jvm.internal.BaseContinuationImpl.resumeWith(ContinuationImpl.kt:33)\n",
      "org.jetbrains.kotlin.mainKts.relocatedDeps.kotlinx.coroutines.DispatchedTask.run(Dispatched.kt:238)\n",
      "org.jetbrains.kotlin.mainKts.relocatedDeps.kotlinx.coroutines.EventLoopImplBase.processNextEvent(EventLoop.kt:116)\n",
      "org.jetbrains.kotlin.mainKts.relocatedDeps.kotlinx.coroutines.BlockingCoroutine.joinBlocking(Builders.kt:80)\n",
      "org.jetbrains.kotlin.mainKts.relocatedDeps.kotlinx.coroutines.BuildersKt__BuildersKt.runBlocking(Builders.kt:54)\n",
      "org.jetbrains.kotlin.mainKts.relocatedDeps.kotlinx.coroutines.BuildersKt.runBlocking(Unknown Source)\n",
      "org.jetbrains.kotlin.mainKts.relocatedDeps.kotlinx.coroutines.BuildersKt__BuildersKt.runBlocking$default(Builders.kt:36)\n",
      "org.jetbrains.kotlin.mainKts.relocatedDeps.kotlinx.coroutines.BuildersKt.runBlocking$default(Unknown Source)\n",
      "kotlin.script.experimental.jvmhost.repl.JvmReplEvaluator.eval(legacyReplEvaluation.kt:57)\n",
      "org.jetbrains.kotlin.cli.common.repl.ReplEvalAction$DefaultImpls.eval$default(ReplApi.kt:123)\n",
      "org.jetbrains.kotlin.jupyter.ReplForJupyter.doEval(repl.kt:266)\n",
      "org.jetbrains.kotlin.jupyter.ReplForJupyter.eval(repl.kt:199)\n",
      "org.jetbrains.kotlin.jupyter.ProtocolKt$shellMessagesHandler$res$1.invoke(protocol.kt:71)\n",
      "org.jetbrains.kotlin.jupyter.ProtocolKt$shellMessagesHandler$res$1.invoke(protocol.kt)\n",
      "org.jetbrains.kotlin.jupyter.ProtocolKt.evalWithIO(protocol.kt:201)\n",
      "org.jetbrains.kotlin.jupyter.ProtocolKt.shellMessagesHandler(protocol.kt:70)\n",
      "org.jetbrains.kotlin.jupyter.IkotlinKt.kernelServer(ikotlin.kt:104)\n",
      "org.jetbrains.kotlin.jupyter.IkotlinKt.main(ikotlin.kt:59)\n"
     ]
    }
   ],
   "source": [
    "  import  java.lang.Math.*;\n",
    "        val heart = Array(200) { DoubleArray(2) }\n",
    "        for (i in 0..199) {\n",
    "            val t = Math.PI * (i - 100) / 100\n",
    "            heart[i][0] = 16 * Math.pow(Math.sin(t), 3.0)\n",
    "            heart[i][1] = 13 * Math.cos(t) - 5 * Math.cos(2 * t) - 2 * Math.cos(3 * t) - Math.cos(4 * t)\n",
    "        }\n",
    "    canvas.window();"
   ]
  },
  {
   "cell_type": "code",
   "execution_count": null,
   "metadata": {},
   "outputs": [],
   "source": []
  }
 ],
 "metadata": {
  "kernelspec": {
   "display_name": "Kotlin",
   "language": "kotlin",
   "name": "kotlin"
  },
  "language_info": {
   "codemirror_mode": "text/x-kotlin",
   "file_extension": "kt",
   "name": "kotlin"
  }
 },
 "nbformat": 4,
 "nbformat_minor": 4
}
